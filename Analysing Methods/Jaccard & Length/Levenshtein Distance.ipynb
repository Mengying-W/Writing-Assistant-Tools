{
 "cells": [
  {
   "cell_type": "code",
   "execution_count": 15,
   "id": "231eef3d",
   "metadata": {},
   "outputs": [],
   "source": [
    "#!pip install rapidfuzz\n",
    "from rapidfuzz.distance import Levenshtein\n",
    "import re\n",
    "from pathlib import Path\n",
    "import pandas as pd"
   ]
  },
  {
   "cell_type": "code",
   "execution_count": null,
   "id": "83b33e55",
   "metadata": {},
   "outputs": [],
   "source": [
    "\n",
    "# ===== 你的文件路径 =====\n",
    "wat_path = \"###/annotated data.csv\"\n",
    "llm_paths = {\n",
    "    \"Qwen\": \"###/cleaned1_qwen.csv\",\n",
    "    \"Aya-23\": \"###/annotation/aya8b/aya23_clean.csv\",\n",
    "    \"DeepSeek\": \"###/deepseek_clean2_output.csv\",\n",
    "    \"GPT-4o mini\": \"###/rephrased_preview_gpt4o-mini.csv\",\n",
    "    \"LLaMA3\": \"###/llama3_processed_output.csv\",\n",
    "    \"Gemini\": \"/###/Gemini.cleaned.csv\"\n",
    "}"
   ]
  },
  {
   "cell_type": "code",
   "execution_count": 17,
   "id": "a3eec2ab",
   "metadata": {},
   "outputs": [],
   "source": [
    "# ===== Levenshtein（优先 rapidfuzz）=====\n",
    "try:\n",
    "    from rapidfuzz.distance import Levenshtein as RFLev\n",
    "    def lev_distance(a: str, b: str) -> int:\n",
    "        return RFLev.distance(a, b)\n",
    "except Exception:\n",
    "    # 纯 Python DP 备选（慢，但可用）\n",
    "    def lev_distance(a: str, b: str) -> int:\n",
    "        n, m = len(a), len(b)\n",
    "        if n == 0: return m\n",
    "        if m == 0: return n\n",
    "        prev = list(range(m + 1))\n",
    "        curr = [0] * (m + 1)\n",
    "        for i in range(1, n + 1):\n",
    "            curr[0] = i\n",
    "            ca = a[i - 1]\n",
    "            for j in range(1, m + 1):\n",
    "                cb = b[j - 1]\n",
    "                cost = 0 if ca == cb else 1\n",
    "                curr[j] = min(prev[j] + 1,        # 删除\n",
    "                              curr[j - 1] + 1,    # 插入\n",
    "                              prev[j - 1] + cost) # 替换\n",
    "            prev, curr = curr, prev\n",
    "        return prev[m]"
   ]
  },
  {
   "cell_type": "code",
   "execution_count": 18,
   "id": "50de609d",
   "metadata": {},
   "outputs": [],
   "source": [
    "def lev_norm(a: str, b: str) -> float:\n",
    "    a = \"\" if a is None else str(a)\n",
    "    b = \"\" if b is None else str(b)\n",
    "    if not a and not b:\n",
    "        return 0.0\n",
    "    return lev_distance(a, b) / max(len(a), len(b), 1)"
   ]
  },
  {
   "cell_type": "code",
   "execution_count": 19,
   "id": "0a4bb0e2",
   "metadata": {},
   "outputs": [],
   "source": [
    "def process_one_csv(csv_path: str):\n",
    "    p = Path(csv_path)\n",
    "    # 尝试多种编码避免读取失败\n",
    "    for enc in [None, \"utf-8\", \"utf-8-sig\", \"latin1\"]:\n",
    "        try:\n",
    "            df = pd.read_csv(p, encoding=enc) if enc else pd.read_csv(p)\n",
    "            break\n",
    "        except Exception:\n",
    "            df = None\n",
    "    if df is None or df.shape[1] < 2:\n",
    "        print(f\"[跳过] {p.name}: 读取失败或列数不足。\")\n",
    "        return\n",
    "\n",
    "    original_col = df.columns[0]\n",
    "    tool_cols = list(df.columns[1:])\n",
    "\n",
    "    # 结果矩阵：与输入相同行数、列=工具列\n",
    "    result = pd.DataFrame(index=df.index, columns=tool_cols, dtype=float)\n",
    "\n",
    "    for col in tool_cols:\n",
    "        vals = []\n",
    "        for a, b in zip(df[original_col], df[col]):\n",
    "            if pd.isna(a) or pd.isna(b):\n",
    "                vals.append(None)\n",
    "            else:\n",
    "                vals.append(lev_norm(str(a), str(b)))\n",
    "        result[col] = vals\n",
    "\n",
    "    out_path = p.with_name(f\"{p.stem}_levenshtein.csv\")\n",
    "    # 保存为纯数字（保留 NaN）\n",
    "    result.to_csv(out_path, index=False)\n",
    "    print(f\"✅ {p.name} → {out_path.name}\")"
   ]
  },
  {
   "cell_type": "code",
   "execution_count": 20,
   "id": "c8eaa55c",
   "metadata": {},
   "outputs": [
    {
     "name": "stdout",
     "output_type": "stream",
     "text": [
      "✅ annotated data.csv → annotated data_levenshtein.csv\n"
     ]
    }
   ],
   "source": [
    "# ===== 跑 WAT 文件 =====\n",
    "process_one_csv(wat_path)"
   ]
  },
  {
   "cell_type": "code",
   "execution_count": 21,
   "id": "aba151fd",
   "metadata": {},
   "outputs": [
    {
     "name": "stdout",
     "output_type": "stream",
     "text": [
      "✅ cleaned1_qwen.csv → cleaned1_qwen_levenshtein.csv\n",
      "✅ aya23_clean.csv → aya23_clean_levenshtein.csv\n",
      "✅ deepseek_clean2_output.csv → deepseek_clean2_output_levenshtein.csv\n",
      "✅ rephrased_preview_gpt4o-mini.csv → rephrased_preview_gpt4o-mini_levenshtein.csv\n",
      "✅ llama3_processed_output.csv → llama3_processed_output_levenshtein.csv\n",
      "✅ Gemini.cleaned.csv → Gemini.cleaned_levenshtein.csv\n"
     ]
    }
   ],
   "source": [
    "# ===== 跑所有 LLM 文件 =====\n",
    "for name, path in llm_paths.items():\n",
    "    process_one_csv(path)\n"
   ]
  }
 ],
 "metadata": {
  "kernelspec": {
   "display_name": "Python 3",
   "language": "python",
   "name": "python3"
  },
  "language_info": {
   "codemirror_mode": {
    "name": "ipython",
    "version": 3
   },
   "file_extension": ".py",
   "mimetype": "text/x-python",
   "name": "python",
   "nbconvert_exporter": "python",
   "pygments_lexer": "ipython3",
   "version": "3.9.6"
  }
 },
 "nbformat": 4,
 "nbformat_minor": 5
}
