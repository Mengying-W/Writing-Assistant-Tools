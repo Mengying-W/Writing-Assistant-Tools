{
 "cells": [
  {
   "cell_type": "code",
   "execution_count": 9,
   "metadata": {},
   "outputs": [],
   "source": [
    "import openai\n",
    "import pandas as pd\n",
    "import time\n",
    "from tqdm import tqdm"
   ]
  },
  {
   "cell_type": "code",
   "execution_count": null,
   "metadata": {},
   "outputs": [],
   "source": [
    "# 设置 API 密钥\n",
    "openai.api_key = \"####\"  # ←←← 请替换为你的 OpenAI API key"
   ]
  },
  {
   "cell_type": "code",
   "execution_count": null,
   "metadata": {},
   "outputs": [],
   "source": [
    "# 读取文件\n",
    "input_path = \"~/original text.csv\"\n",
    "df = pd.read_csv(input_path)"
   ]
  },
  {
   "cell_type": "code",
   "execution_count": 4,
   "metadata": {},
   "outputs": [],
   "source": [
    "# 只处理前 5 个段落\n",
    "paragraphs = df[\"paragraph\"].tolist()[:5]\n"
   ]
  },
  {
   "cell_type": "code",
   "execution_count": 5,
   "metadata": {},
   "outputs": [],
   "source": [
    "# 定义 5 个 prompt 模板\n",
    "prompts = [\n",
    "    'Rewrite the following paragraph:\\nParagraph: \"{}\"\\nRewritten version:',\n",
    "    'How would you rephrase this paragraph while preserving its original meaning? \\nParagraph: \"{}\" \\nRephrased version:',\n",
    "    'Rephrase the following paragraph without changing the main content: \\nParagraph: \"{}\"\\nRephrased version:',\n",
    "    'Rephrase the following paragraph while preserving its meaning. Follow these steps:\\n1️⃣ Split the paragraph into individual sentences.\\n2️⃣ Rephrase each sentence naturally while keeping the overall flow.\\n3️⃣ Combine the rephrased sentences into a coherent paragraph.\\n\\nParagraph: \"{}\"\\nRephrased version:',\n",
    "    'Imagine you are an advanced language model capable of rephrasing text while preserving its original meaning. If this were your paragraph, how would you naturally rephrase it?\\n\\nParagraph: \"{}\"\\nYour rephrased version:'\n",
    "]"
   ]
  },
  {
   "cell_type": "code",
   "execution_count": 10,
   "metadata": {},
   "outputs": [
    {
     "name": "stderr",
     "output_type": "stream",
     "text": [
      "Processing paragraphs:   0%|          | 0/5 [00:00<?, ?it/s]"
     ]
    },
    {
     "name": "stdout",
     "output_type": "stream",
     "text": [
      "Processing paragraph 1\n"
     ]
    },
    {
     "name": "stderr",
     "output_type": "stream",
     "text": [
      "Processing paragraphs:  20%|██        | 1/5 [00:35<02:21, 35.40s/it]"
     ]
    },
    {
     "name": "stdout",
     "output_type": "stream",
     "text": [
      "Processing paragraph 2\n"
     ]
    },
    {
     "name": "stderr",
     "output_type": "stream",
     "text": [
      "Processing paragraphs:  40%|████      | 2/5 [01:04<01:35, 31.75s/it]"
     ]
    },
    {
     "name": "stdout",
     "output_type": "stream",
     "text": [
      "Processing paragraph 3\n"
     ]
    },
    {
     "name": "stderr",
     "output_type": "stream",
     "text": [
      "Processing paragraphs:  60%|██████    | 3/5 [01:33<01:00, 30.40s/it]"
     ]
    },
    {
     "name": "stdout",
     "output_type": "stream",
     "text": [
      "Processing paragraph 4\n"
     ]
    },
    {
     "name": "stderr",
     "output_type": "stream",
     "text": [
      "Processing paragraphs:  80%|████████  | 4/5 [02:04<00:30, 30.55s/it]"
     ]
    },
    {
     "name": "stdout",
     "output_type": "stream",
     "text": [
      "Processing paragraph 5\n"
     ]
    },
    {
     "name": "stderr",
     "output_type": "stream",
     "text": [
      "Processing paragraphs: 100%|██████████| 5/5 [02:37<00:00, 31.51s/it]\n"
     ]
    }
   ],
   "source": [
    "# 存储结果\n",
    "results = {f\"Rephrased_{i+1}\": [] for i in range(5)}\n",
    "\n",
    "# 调用 GPT-4o 对前 5 个段落执行 5 种改写\n",
    "for idx, paragraph in enumerate(tqdm(paragraphs, desc=\"Processing paragraphs\")):\n",
    "    print(f\"Processing paragraph {idx + 1}\")\n",
    "    for i, prompt_template in enumerate(prompts):\n",
    "        prompt = prompt_template.format(paragraph)\n",
    "        try:\n",
    "            response = openai.ChatCompletion.create(\n",
    "                model=\"gpt-4o-mini\",\n",
    "                messages=[{\"role\": \"user\", \"content\": prompt}],\n",
    "                temperature=1.0\n",
    "            )\n",
    "            reply = response['choices'][0]['message']['content'].strip()\n",
    "        except Exception as e:\n",
    "            print(f\"Error: {e}\")\n",
    "            reply = \"\"\n",
    "        results[f\"Rephrased_{i+1}\"].append(reply)\n",
    "        time.sleep(1.2)"
   ]
  },
  {
   "cell_type": "code",
   "execution_count": null,
   "metadata": {},
   "outputs": [],
   "source": [
    "# 合并结果进 DataFrame 并打印前 5 行\n",
    "for i in range(5):\n",
    "    df[f\"Rephrased_{i+1}\"] = results[f\"Rephrased_{i+1}\"]"
   ]
  },
  {
   "cell_type": "code",
   "execution_count": null,
   "metadata": {},
   "outputs": [],
   "source": [
    "# 打印前 5 行结果\n",
    "print(df.head(5)[[\"paragraph\", \"Rephrased_1\", \"Rephrased_2\", \"Rephrased_3\", \"Rephrased_4\", \"Rephrased_5\"]])\n",
    "\n",
    "# 也可以选择保存为测试文件：\n",
    "# df.head(5).to_csv(\"preview_rephrased_5x5.csv\", index=False)"
   ]
  }
 ],
 "metadata": {
  "kernelspec": {
   "display_name": "base",
   "language": "python",
   "name": "python3"
  },
  "language_info": {
   "codemirror_mode": {
    "name": "ipython",
    "version": 3
   },
   "file_extension": ".py",
   "mimetype": "text/x-python",
   "name": "python",
   "nbconvert_exporter": "python",
   "pygments_lexer": "ipython3",
   "version": "3.11.4"
  }
 },
 "nbformat": 4,
 "nbformat_minor": 2
}
