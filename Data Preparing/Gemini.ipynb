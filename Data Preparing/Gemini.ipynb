{
 "cells": [
  {
   "cell_type": "code",
   "execution_count": 1,
   "metadata": {},
   "outputs": [],
   "source": [
    "#pip install -U google-genai\n",
    "#%pip install pandas tqdm\n"
   ]
  },
  {
   "cell_type": "code",
   "execution_count": null,
   "metadata": {},
   "outputs": [],
   "source": [
    "#export GEMINI_API_KEY=\"###\"\n"
   ]
  },
  {
   "cell_type": "code",
   "execution_count": 3,
   "metadata": {},
   "outputs": [
    {
     "name": "stderr",
     "output_type": "stream",
     "text": [
      "/Users/mengyingwang/Library/Python/3.9/lib/python/site-packages/urllib3/__init__.py:35: NotOpenSSLWarning: urllib3 v2 only supports OpenSSL 1.1.1+, currently the 'ssl' module is compiled with 'LibreSSL 2.8.3'. See: https://github.com/urllib3/urllib3/issues/3020\n",
      "  warnings.warn(\n"
     ]
    }
   ],
   "source": [
    "import os\n",
    "import time\n",
    "from datetime import datetime\n",
    "\n",
    "import pandas as pd\n",
    "from tqdm import tqdm\n",
    "from google import genai\n",
    "from google.genai import types"
   ]
  },
  {
   "cell_type": "code",
   "execution_count": null,
   "metadata": {},
   "outputs": [],
   "source": [
    "# 如果没有在系统里设置 GEMINI_API_KEY，可以取消下一行注释直接写入\n",
    "os.environ[\"GEMINI_API_KEY\"] = \"###\""
   ]
  },
  {
   "cell_type": "code",
   "execution_count": 5,
   "metadata": {},
   "outputs": [],
   "source": [
    "MODEL_NAME = \"gemini-2.5-flash\"\n",
    "RATE_SLEEP = 1.0   # 每次调用后的短暂停顿，避免触发限制"
   ]
  },
  {
   "cell_type": "code",
   "execution_count": 7,
   "metadata": {},
   "outputs": [],
   "source": [
    "# 5 个 prompt 模板\n",
    "PROMPTS = [\n",
    "    lambda x: f'Rewrite the following paragraph:\\n1: Paragraph: \"{x}\"\\nRewritten version:',\n",
    "    lambda x: f'How would you rephrase this paragraph while preserving its original meaning?\\nParagraph: \"{x}\"\\nRephrased version:',\n",
    "    lambda x: f'Rephrase the following paragraph without changing the main content:\\nParagraph: \"{x}\"\\nRephrased version:',\n",
    "    lambda x: (\n",
    "        \"Rephrase the following paragraph while preserving its meaning. Follow these steps:\\n\"\n",
    "        \"1️⃣ Split the paragraph into individual sentences.\\n\"\n",
    "        \"2️⃣ Rephrase each sentence naturally while keeping the overall flow.\\n\"\n",
    "        \"3️⃣ Combine the rephrased sentences into a coherent paragraph.\\n\\n\"\n",
    "        f'Paragraph: \"{x}\"\\nRephrased version:'\n",
    "    ),\n",
    "    lambda x: (\n",
    "        \"Imagine you are an advanced language model capable of rephrasing text while preserving its original meaning. \"\n",
    "        \"If this were your paragraph, how would you naturally rephrase it?\\n\\n\"\n",
    "        f'Paragraph: \"{x}\"\\nYour rephrased version:'\n",
    "    ),\n",
    "]"
   ]
  },
  {
   "cell_type": "code",
   "execution_count": 8,
   "metadata": {},
   "outputs": [],
   "source": [
    "# 初始化客户端\n",
    "client = genai.Client()"
   ]
  },
  {
   "cell_type": "code",
   "execution_count": null,
   "metadata": {},
   "outputs": [],
   "source": [
    "def call_gemini(prompt_text):\n",
    "\n",
    "    resp = client.models.generate_content(\n",
    "        model=MODEL_NAME,\n",
    "        contents=prompt_text\n",
    "        #config=config\n",
    "    )\n",
    "    #print(resp)\n",
    "    return (resp.text)"
   ]
  },
  {
   "cell_type": "code",
   "execution_count": null,
   "metadata": {},
   "outputs": [],
   "source": [
    "# 读取数据（需要有一列名为 'text'）\n",
    "df = pd.read_csv(\"###/original text.csv\")\n",
    "df = df.iloc[380:410]\n"
   ]
  },
  {
   "cell_type": "code",
   "execution_count": 11,
   "metadata": {},
   "outputs": [],
   "source": [
    "# 结果容器\n",
    "p_cols = {f\"p{i}\": [] for i in range(1, 6)}"
   ]
  },
  {
   "cell_type": "code",
   "execution_count": 12,
   "metadata": {},
   "outputs": [
    {
     "name": "stderr",
     "output_type": "stream",
     "text": [
      "Rephrasing with 5 prompts: 100%|██████████| 30/30 [27:25<00:00, 54.84s/it]\n"
     ]
    }
   ],
   "source": [
    "# 主循环\n",
    "for raw_text in tqdm(df[\"paragraph\"], desc=\"Rephrasing with 5 prompts\"):\n",
    "    text = (str(raw_text) or \"\").strip()\n",
    "    for i, tmpl in enumerate(PROMPTS, start=1):\n",
    "        prompt = tmpl(text)\n",
    "        #print(prompt)\n",
    "        out = call_gemini(prompt)\n",
    "        p_cols[f\"p{i}\"].append(out)\n",
    "        time.sleep(RATE_SLEEP)"
   ]
  },
  {
   "cell_type": "code",
   "execution_count": 13,
   "metadata": {},
   "outputs": [],
   "source": [
    "# 合并结果并保存\n",
    "out_df = df.copy()\n",
    "for k, v in p_cols.items():\n",
    "    out_df[k] = v"
   ]
  },
  {
   "cell_type": "code",
   "execution_count": null,
   "metadata": {},
   "outputs": [
    {
     "name": "stdout",
     "output_type": "stream",
     "text": [
      "Done!\n"
     ]
    }
   ],
   "source": [
    "out_df.to_csv('###/Gemini.csv', index=False)\n",
    "print(\"Done!\")\n"
   ]
  }
 ],
 "metadata": {
  "kernelspec": {
   "display_name": "Python 3",
   "language": "python",
   "name": "python3"
  },
  "language_info": {
   "codemirror_mode": {
    "name": "ipython",
    "version": 3
   },
   "file_extension": ".py",
   "mimetype": "text/x-python",
   "name": "python",
   "nbconvert_exporter": "python",
   "pygments_lexer": "ipython3",
   "version": "3.9.6"
  }
 },
 "nbformat": 4,
 "nbformat_minor": 2
}
